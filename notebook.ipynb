{
 "cells": [
  {
   "cell_type": "code",
   "execution_count": 1,
   "metadata": {
    "scrolled": true
   },
   "outputs": [
    {
     "name": "stdout",
     "output_type": "stream",
     "text": [
      "  1 of 60 documents processed.\n",
      "  2 of 60 documents processed.\n",
      "  3 of 60 documents processed.\n",
      "  4 of 60 documents processed.\n",
      "  5 of 60 documents processed.\n",
      "  6 of 60 documents processed.\n",
      "  7 of 60 documents processed.\n",
      "  8 of 60 documents processed.\n",
      "  9 of 60 documents processed.\n",
      " 10 of 60 documents processed.\n",
      " 11 of 60 documents processed.\n",
      " 12 of 60 documents processed.\n",
      " 13 of 60 documents processed.\n",
      " 14 of 60 documents processed.\n",
      " 15 of 60 documents processed.\n",
      " 16 of 60 documents processed.\n",
      " 17 of 60 documents processed.\n",
      " 18 of 60 documents processed.\n",
      " 19 of 60 documents processed.\n",
      " 20 of 60 documents processed.\n",
      " 21 of 60 documents processed.\n",
      " 22 of 60 documents processed.\n",
      " 23 of 60 documents processed.\n",
      " 24 of 60 documents processed.\n",
      " 25 of 60 documents processed.\n",
      " 26 of 60 documents processed.\n",
      " 27 of 60 documents processed.\n",
      " 28 of 60 documents processed.\n",
      " 29 of 60 documents processed.\n",
      " 30 of 60 documents processed.\n",
      " 31 of 60 documents processed.\n",
      " 32 of 60 documents processed.\n",
      " 33 of 60 documents processed.\n",
      " 34 of 60 documents processed.\n",
      " 35 of 60 documents processed.\n",
      " 36 of 60 documents processed.\n",
      " 37 of 60 documents processed.\n",
      " 38 of 60 documents processed.\n",
      " 39 of 60 documents processed.\n",
      " 40 of 60 documents processed.\n",
      " 41 of 60 documents processed.\n",
      " 42 of 60 documents processed.\n",
      " 43 of 60 documents processed.\n",
      " 44 of 60 documents processed.\n",
      " 45 of 60 documents processed.\n",
      " 46 of 60 documents processed.\n",
      " 47 of 60 documents processed.\n",
      " 48 of 60 documents processed.\n",
      " 49 of 60 documents processed.\n",
      " 50 of 60 documents processed.\n",
      " 51 of 60 documents processed.\n",
      " 52 of 60 documents processed.\n",
      " 53 of 60 documents processed.\n",
      " 54 of 60 documents processed.\n",
      " 55 of 60 documents processed.\n",
      " 56 of 60 documents processed.\n",
      " 57 of 60 documents processed.\n",
      " 58 of 60 documents processed.\n",
      " 59 of 60 documents processed.\n",
      " 60 of 60 documents processed.\n",
      "          data compra_venda abbreviation        titulo ativo    qtd  preco  \\\n",
      "0   2017-03-17            C        JBSS3           JBS    ON  200.0  11.03   \n",
      "1   2017-03-17            C        JBSS3           JBS    ON  300.0  11.19   \n",
      "2   2017-09-28            C        WEGE3      WEG S.A.    ON  200.0  21.20   \n",
      "3   2020-02-11            C        PSSA3  PORTO SEGURO    ON  100.0  67.20   \n",
      "4   2020-02-11            C        PSSA3  PORTO SEGURO    ON  100.0  67.20   \n",
      "..         ...          ...          ...           ...   ...    ...    ...   \n",
      "175 2018-03-21            V        PSSA3  PORTO SEGURO    ON  200.0  50.07   \n",
      "176 2018-09-10            C        PSSA3  PORTO SEGURO    ON  100.0  56.40   \n",
      "177 2018-09-10            C        WEGE3           WEG    ON  100.0  19.75   \n",
      "178 2017-03-20            V        JBSS3           JBS    ON  500.0  10.00   \n",
      "179 2017-10-19            C        WEGE3      WEG S.A.    ON  100.0  22.16   \n",
      "\n",
      "     valor_operacao  taxas  total_ajustado  preco_ajustado  \n",
      "0            2206.0  21.13         2214.45       11.072250  \n",
      "1            3357.0  21.13         3369.68       11.232267  \n",
      "2            4240.0  12.49         4252.49       21.262450  \n",
      "3            6720.0  10.40         6730.40       67.304000  \n",
      "4            6720.0  10.40         6730.40       67.304000  \n",
      "..              ...    ...             ...             ...  \n",
      "175         10014.0   4.08        10009.92       50.049600  \n",
      "176          5640.0   4.21         5644.21       56.442100  \n",
      "177          1975.0   4.21         1979.21       19.792100  \n",
      "178          5000.0  12.84         4987.16        9.974320  \n",
      "179          2216.0  11.81         2227.81       22.278100  \n",
      "\n",
      "[180 rows x 11 columns]\n",
      "              preco_medio     qtd\n",
      "abbreviation                     \n",
      "BBAS3           33.148568  3100.0\n",
      "BBDC4           18.806338  4886.0\n",
      "BRAP3           27.879200  1700.0\n",
      "BRAP4           28.589915  1300.0\n",
      "ENAT3           11.397317  2500.0\n",
      "EZTC3           15.686023  6200.0\n",
      "ITUB3           20.519738  5200.0\n",
      "PSSA3           31.456164  5400.0\n",
      "VALE3           65.189900   300.0\n",
      "WEGE3           20.210678  1700.0\n"
     ]
    }
   ],
   "source": [
    "from lion_weapon import LionWeapon\n",
    "\n",
    "\n",
    "lp = LionWeapon()\n",
    "lp.calculate()"
   ]
  },
  {
   "cell_type": "code",
   "execution_count": 2,
   "metadata": {},
   "outputs": [
    {
     "data": {
      "text/plain": [
       "125841.41999999998"
      ]
     },
     "execution_count": 2,
     "metadata": {},
     "output_type": "execute_result"
    }
   ],
   "source": [
    "raw_df = lp.raw_df\n",
    "\n",
    "pos = raw_df[(raw_df.abbreviation=='PSSA3') & (raw_df.compra_venda == 'C')].sort_values(\"data\")\n",
    "neg = raw_df[(raw_df.abbreviation=='PSSA3') & (raw_df.compra_venda == 'V')].sort_values(\"data\")\n",
    "# calc.total_ajustado.sum()\n",
    "total = pos.total_ajustado.sum() - neg.total_ajustado.sum()\n",
    "total"
   ]
  },
  {
   "cell_type": "code",
   "execution_count": 3,
   "metadata": {},
   "outputs": [
    {
     "data": {
      "text/plain": [
       "0     2017-03-17\n",
       "1     2017-03-17\n",
       "2     2017-09-28\n",
       "3     2020-02-11\n",
       "4     2020-02-11\n",
       "         ...    \n",
       "175   2018-03-21\n",
       "176   2018-09-10\n",
       "177   2018-09-10\n",
       "178   2017-03-20\n",
       "179   2017-10-19\n",
       "Name: data, Length: 180, dtype: datetime64[ns]"
      ]
     },
     "execution_count": 3,
     "metadata": {},
     "output_type": "execute_result"
    }
   ],
   "source": [
    "raw_df.data"
   ]
  }
 ],
 "metadata": {
  "kernelspec": {
   "display_name": "Python 3 (ipykernel)",
   "language": "python",
   "name": "python3"
  },
  "language_info": {
   "codemirror_mode": {
    "name": "ipython",
    "version": 3
   },
   "file_extension": ".py",
   "mimetype": "text/x-python",
   "name": "python",
   "nbconvert_exporter": "python",
   "pygments_lexer": "ipython3",
   "version": "3.8.10"
  },
  "vscode": {
   "interpreter": {
    "hash": "e7370f93d1d0cde622a1f8e1c04877d8463912d04d973331ad4851f04de6915a"
   }
  }
 },
 "nbformat": 4,
 "nbformat_minor": 2
}
