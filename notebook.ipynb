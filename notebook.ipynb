{
 "cells": [
  {
   "cell_type": "code",
   "execution_count": 1,
   "metadata": {
    "scrolled": true
   },
   "outputs": [
    {
     "name": "stdout",
     "output_type": "stream",
     "text": [
      "1 of 60 documents processed.\n",
      "2 of 60 documents processed.\n",
      "3 of 60 documents processed.\n",
      "4 of 60 documents processed.\n",
      "5 of 60 documents processed.\n",
      "6 of 60 documents processed.\n",
      "7 of 60 documents processed.\n",
      "8 of 60 documents processed.\n",
      "9 of 60 documents processed.\n",
      "10 of 60 documents processed.\n",
      "11 of 60 documents processed.\n",
      "12 of 60 documents processed.\n",
      "13 of 60 documents processed.\n",
      "14 of 60 documents processed.\n",
      "15 of 60 documents processed.\n",
      "16 of 60 documents processed.\n",
      "17 of 60 documents processed.\n",
      "18 of 60 documents processed.\n",
      "19 of 60 documents processed.\n",
      "20 of 60 documents processed.\n",
      "21 of 60 documents processed.\n",
      "22 of 60 documents processed.\n",
      "23 of 60 documents processed.\n",
      "24 of 60 documents processed.\n",
      "25 of 60 documents processed.\n",
      "26 of 60 documents processed.\n",
      "27 of 60 documents processed.\n",
      "28 of 60 documents processed.\n",
      "29 of 60 documents processed.\n",
      "30 of 60 documents processed.\n",
      "31 of 60 documents processed.\n",
      "32 of 60 documents processed.\n",
      "33 of 60 documents processed.\n",
      "34 of 60 documents processed.\n",
      "35 of 60 documents processed.\n",
      "36 of 60 documents processed.\n",
      "37 of 60 documents processed.\n",
      "38 of 60 documents processed.\n",
      "39 of 60 documents processed.\n",
      "40 of 60 documents processed.\n",
      "41 of 60 documents processed.\n",
      "42 of 60 documents processed.\n",
      "43 of 60 documents processed.\n",
      "44 of 60 documents processed.\n",
      "45 of 60 documents processed.\n",
      "46 of 60 documents processed.\n",
      "47 of 60 documents processed.\n",
      "48 of 60 documents processed.\n",
      "49 of 60 documents processed.\n",
      "50 of 60 documents processed.\n",
      "51 of 60 documents processed.\n",
      "52 of 60 documents processed.\n",
      "53 of 60 documents processed.\n",
      "54 of 60 documents processed.\n",
      "55 of 60 documents processed.\n",
      "56 of 60 documents processed.\n",
      "57 of 60 documents processed.\n",
      "58 of 60 documents processed.\n",
      "59 of 60 documents processed.\n",
      "60 of 60 documents processed.\n"
     ]
    },
    {
     "ename": "NameError",
     "evalue": "name 'raw_df' is not defined",
     "output_type": "error",
     "traceback": [
      "\u001b[0;31m---------------------------------------------------------------------------\u001b[0m",
      "\u001b[0;31mNameError\u001b[0m                                 Traceback (most recent call last)",
      "Cell \u001b[0;32mIn[1], line 5\u001b[0m\n\u001b[1;32m      1\u001b[0m \u001b[38;5;28;01mfrom\u001b[39;00m \u001b[38;5;21;01mlion_weapon\u001b[39;00m \u001b[38;5;28;01mimport\u001b[39;00m LionWeapon\n\u001b[1;32m      4\u001b[0m lp \u001b[38;5;241m=\u001b[39m LionWeapon()\n\u001b[0;32m----> 5\u001b[0m \u001b[43mlp\u001b[49m\u001b[38;5;241;43m.\u001b[39;49m\u001b[43mcalculate\u001b[49m\u001b[43m(\u001b[49m\u001b[43m)\u001b[49m\n",
      "File \u001b[0;32m/lion-weapon/lion_weapon.py:15\u001b[0m, in \u001b[0;36mLionWeapon.calculate\u001b[0;34m(self)\u001b[0m\n\u001b[1;32m     13\u001b[0m \u001b[38;5;28;01mdef\u001b[39;00m \u001b[38;5;21mcalculate\u001b[39m(\u001b[38;5;28mself\u001b[39m):\n\u001b[1;32m     14\u001b[0m     \u001b[38;5;28;01mif\u001b[39;00m \u001b[38;5;28mhasattr\u001b[39m(\u001b[38;5;28mself\u001b[39m\u001b[38;5;241m.\u001b[39mraw_df, \u001b[38;5;124m'\u001b[39m\u001b[38;5;124mdata\u001b[39m\u001b[38;5;124m'\u001b[39m):\n\u001b[0;32m---> 15\u001b[0m         \u001b[38;5;28;43mself\u001b[39;49m\u001b[38;5;241;43m.\u001b[39;49m\u001b[43mformat_df\u001b[49m\u001b[43m(\u001b[49m\u001b[43m)\u001b[49m\n\u001b[1;32m     16\u001b[0m         \u001b[38;5;28mself\u001b[39m\u001b[38;5;241m.\u001b[39mcalculate_avg_prices()\n",
      "File \u001b[0;32m/lion-weapon/lion_weapon.py:23\u001b[0m, in \u001b[0;36mLionWeapon.format_df\u001b[0;34m(self)\u001b[0m\n\u001b[1;32m     20\u001b[0m \u001b[38;5;28mself\u001b[39m\u001b[38;5;241m.\u001b[39mdf\u001b[38;5;241m.\u001b[39mdata \u001b[38;5;241m=\u001b[39m \u001b[38;5;28mself\u001b[39m\u001b[38;5;241m.\u001b[39mraw_df\u001b[38;5;241m.\u001b[39mdata\u001b[38;5;241m.\u001b[39mapply(pd\u001b[38;5;241m.\u001b[39mto_datetime)\n\u001b[1;32m     21\u001b[0m \u001b[38;5;28mself\u001b[39m\u001b[38;5;241m.\u001b[39mdf\u001b[38;5;241m.\u001b[39mqtd \u001b[38;5;241m=\u001b[39m \u001b[38;5;28mself\u001b[39m\u001b[38;5;241m.\u001b[39mdf\u001b[38;5;241m.\u001b[39mapply(\u001b[38;5;28;01mlambda\u001b[39;00m line: line\u001b[38;5;241m.\u001b[39mqtd \u001b[38;5;28;01mif\u001b[39;00m line\u001b[38;5;241m.\u001b[39mcompra_venda \u001b[38;5;241m==\u001b[39m \u001b[38;5;124m\"\u001b[39m\u001b[38;5;124mC\u001b[39m\u001b[38;5;124m\"\u001b[39m \u001b[38;5;28;01melse\u001b[39;00m \u001b[38;5;241m-\u001b[39mline\u001b[38;5;241m.\u001b[39mqtd, axis\u001b[38;5;241m=\u001b[39m\u001b[38;5;241m1\u001b[39m)\n\u001b[0;32m---> 23\u001b[0m weighted_mean \u001b[38;5;241m=\u001b[39m group_weighted_mean_factory(\u001b[43mraw_df\u001b[49m, \u001b[38;5;124m\"\u001b[39m\u001b[38;5;124mqtd\u001b[39m\u001b[38;5;124m\"\u001b[39m)\n\u001b[1;32m     25\u001b[0m \u001b[38;5;28mself\u001b[39m\u001b[38;5;241m.\u001b[39mdf \u001b[38;5;241m=\u001b[39m raw_df\u001b[38;5;241m.\u001b[39msort_values(\u001b[38;5;124m\"\u001b[39m\u001b[38;5;124mdata\u001b[39m\u001b[38;5;124m\"\u001b[39m)\u001b[38;5;241m.\u001b[39mgroupby(by\u001b[38;5;241m=\u001b[39m [\u001b[38;5;124m\"\u001b[39m\u001b[38;5;124mdata\u001b[39m\u001b[38;5;124m\"\u001b[39m, \u001b[38;5;124m\"\u001b[39m\u001b[38;5;124mabbreviation\u001b[39m\u001b[38;5;124m\"\u001b[39m, \u001b[38;5;124m\"\u001b[39m\u001b[38;5;124mcompra_venda\u001b[39m\u001b[38;5;124m\"\u001b[39m], axis\u001b[38;5;241m=\u001b[39m\u001b[38;5;241m0\u001b[39m) \\\n\u001b[1;32m     26\u001b[0m     \u001b[38;5;241m.\u001b[39maggregate({\u001b[38;5;124m\"\u001b[39m\u001b[38;5;124mqtd\u001b[39m\u001b[38;5;124m\"\u001b[39m: \u001b[38;5;124m\"\u001b[39m\u001b[38;5;124msum\u001b[39m\u001b[38;5;124m\"\u001b[39m, \u001b[38;5;124m\"\u001b[39m\u001b[38;5;124mpreco\u001b[39m\u001b[38;5;124m\"\u001b[39m: \u001b[38;5;124m\"\u001b[39m\u001b[38;5;124mmean\u001b[39m\u001b[38;5;124m\"\u001b[39m,\n\u001b[1;32m     27\u001b[0m                 \u001b[38;5;124m\"\u001b[39m\u001b[38;5;124mvalor_operacao\u001b[39m\u001b[38;5;124m\"\u001b[39m: \u001b[38;5;124m\"\u001b[39m\u001b[38;5;124msum\u001b[39m\u001b[38;5;124m\"\u001b[39m, \u001b[38;5;124m\"\u001b[39m\u001b[38;5;124mtaxas\u001b[39m\u001b[38;5;124m\"\u001b[39m: \u001b[38;5;124m\"\u001b[39m\u001b[38;5;124mmax\u001b[39m\u001b[38;5;124m\"\u001b[39m, \u001b[38;5;124m\"\u001b[39m\u001b[38;5;124mtotal_ajustado\u001b[39m\u001b[38;5;124m\"\u001b[39m: \u001b[38;5;124m\"\u001b[39m\u001b[38;5;124msum\u001b[39m\u001b[38;5;124m\"\u001b[39m, \u001b[38;5;124m\"\u001b[39m\u001b[38;5;124mpreco_ajustado\u001b[39m\u001b[38;5;124m\"\u001b[39m: weighted_mean})\n\u001b[1;32m     30\u001b[0m \u001b[38;5;28mself\u001b[39m\u001b[38;5;241m.\u001b[39mdf \u001b[38;5;241m=\u001b[39m \u001b[38;5;28mself\u001b[39m\u001b[38;5;241m.\u001b[39mdf\u001b[38;5;241m.\u001b[39mreset_index()\n",
      "\u001b[0;31mNameError\u001b[0m: name 'raw_df' is not defined"
     ]
    }
   ],
   "source": [
    "from lion_weapon import LionWeapon\n",
    "\n",
    "\n",
    "lp = LionWeapon()\n",
    "lp.calculate()"
   ]
  },
  {
   "cell_type": "code",
   "execution_count": 4,
   "metadata": {},
   "outputs": [
    {
     "ename": "AttributeError",
     "evalue": "'NoneType' object has no attribute 'raw_df'",
     "output_type": "error",
     "traceback": [
      "\u001b[0;31m---------------------------------------------------------------------------\u001b[0m",
      "\u001b[0;31mAttributeError\u001b[0m                            Traceback (most recent call last)",
      "Cell \u001b[0;32mIn[4], line 1\u001b[0m\n\u001b[0;32m----> 1\u001b[0m raw_df \u001b[38;5;241m=\u001b[39m \u001b[43mlp\u001b[49m\u001b[38;5;241;43m.\u001b[39;49m\u001b[43mraw_df\u001b[49m\n\u001b[1;32m      3\u001b[0m pos \u001b[38;5;241m=\u001b[39m raw_df[(raw_df\u001b[38;5;241m.\u001b[39mabbreviation\u001b[38;5;241m==\u001b[39m\u001b[38;5;124m'\u001b[39m\u001b[38;5;124mPSSA3\u001b[39m\u001b[38;5;124m'\u001b[39m) \u001b[38;5;241m&\u001b[39m (raw_df\u001b[38;5;241m.\u001b[39mcompra_venda \u001b[38;5;241m==\u001b[39m \u001b[38;5;124m'\u001b[39m\u001b[38;5;124mC\u001b[39m\u001b[38;5;124m'\u001b[39m)]\u001b[38;5;241m.\u001b[39msort_values(\u001b[38;5;124m\"\u001b[39m\u001b[38;5;124mdata\u001b[39m\u001b[38;5;124m\"\u001b[39m)\n\u001b[1;32m      4\u001b[0m neg \u001b[38;5;241m=\u001b[39m raw_df[(raw_df\u001b[38;5;241m.\u001b[39mabbreviation\u001b[38;5;241m==\u001b[39m\u001b[38;5;124m'\u001b[39m\u001b[38;5;124mPSSA3\u001b[39m\u001b[38;5;124m'\u001b[39m) \u001b[38;5;241m&\u001b[39m (raw_df\u001b[38;5;241m.\u001b[39mcompra_venda \u001b[38;5;241m==\u001b[39m \u001b[38;5;124m'\u001b[39m\u001b[38;5;124mV\u001b[39m\u001b[38;5;124m'\u001b[39m)]\u001b[38;5;241m.\u001b[39msort_values(\u001b[38;5;124m\"\u001b[39m\u001b[38;5;124mdata\u001b[39m\u001b[38;5;124m\"\u001b[39m)\n",
      "\u001b[0;31mAttributeError\u001b[0m: 'NoneType' object has no attribute 'raw_df'"
     ]
    }
   ],
   "source": [
    "raw_df = lp.raw_df\n",
    "\n",
    "pos = raw_df[(raw_df.abbreviation=='PSSA3') & (raw_df.compra_venda == 'C')].sort_values(\"data\")\n",
    "neg = raw_df[(raw_df.abbreviation=='PSSA3') & (raw_df.compra_venda == 'V')].sort_values(\"data\")\n",
    "# calc.total_ajustado.sum()\n",
    "total = pos.total_ajustado.sum() - neg.total_ajustado.sum()\n",
    "total"
   ]
  },
  {
   "cell_type": "code",
   "execution_count": null,
   "metadata": {},
   "outputs": [],
   "source": [
    "raw_df.data"
   ]
  }
 ],
 "metadata": {
  "kernelspec": {
   "display_name": "Python 3 (ipykernel)",
   "language": "python",
   "name": "python3"
  },
  "language_info": {
   "codemirror_mode": {
    "name": "ipython",
    "version": 3
   },
   "file_extension": ".py",
   "mimetype": "text/x-python",
   "name": "python",
   "nbconvert_exporter": "python",
   "pygments_lexer": "ipython3",
   "version": "3.8.10"
  },
  "vscode": {
   "interpreter": {
    "hash": "e7370f93d1d0cde622a1f8e1c04877d8463912d04d973331ad4851f04de6915a"
   }
  }
 },
 "nbformat": 4,
 "nbformat_minor": 2
}
