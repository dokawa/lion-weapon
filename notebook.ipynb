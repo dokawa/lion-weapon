{
 "cells": [
  {
   "cell_type": "code",
   "execution_count": 1,
   "metadata": {
    "scrolled": true
   },
   "outputs": [
    {
     "name": "stdout",
     "output_type": "stream",
     "text": [
      "1 de 60 documentos processados.\n",
      "2 de 60 documentos processados.\n",
      "3 de 60 documentos processados.\n",
      "4 de 60 documentos processados.\n",
      "5 de 60 documentos processados.\n",
      "6 de 60 documentos processados.\n",
      "7 de 60 documentos processados.\n",
      "8 de 60 documentos processados.\n",
      "9 de 60 documentos processados.\n",
      "10 de 60 documentos processados.\n",
      "11 de 60 documentos processados.\n",
      "12 de 60 documentos processados.\n",
      "13 de 60 documentos processados.\n",
      "14 de 60 documentos processados.\n",
      "15 de 60 documentos processados.\n",
      "16 de 60 documentos processados.\n",
      "17 de 60 documentos processados.\n",
      "18 de 60 documentos processados.\n",
      "19 de 60 documentos processados.\n",
      "20 de 60 documentos processados.\n",
      "21 de 60 documentos processados.\n",
      "22 de 60 documentos processados.\n",
      "23 de 60 documentos processados.\n",
      "24 de 60 documentos processados.\n",
      "25 de 60 documentos processados.\n",
      "26 de 60 documentos processados.\n",
      "27 de 60 documentos processados.\n",
      "28 de 60 documentos processados.\n",
      "29 de 60 documentos processados.\n",
      "30 de 60 documentos processados.\n",
      "31 de 60 documentos processados.\n",
      "32 de 60 documentos processados.\n",
      "33 de 60 documentos processados.\n",
      "34 de 60 documentos processados.\n",
      "35 de 60 documentos processados.\n",
      "36 de 60 documentos processados.\n",
      "37 de 60 documentos processados.\n",
      "38 de 60 documentos processados.\n",
      "39 de 60 documentos processados.\n",
      "40 de 60 documentos processados.\n",
      "41 de 60 documentos processados.\n",
      "42 de 60 documentos processados.\n",
      "43 de 60 documentos processados.\n",
      "44 de 60 documentos processados.\n",
      "45 de 60 documentos processados.\n",
      "46 de 60 documentos processados.\n",
      "47 de 60 documentos processados.\n",
      "48 de 60 documentos processados.\n",
      "49 de 60 documentos processados.\n",
      "50 de 60 documentos processados.\n",
      "51 de 60 documentos processados.\n",
      "52 de 60 documentos processados.\n",
      "53 de 60 documentos processados.\n",
      "54 de 60 documentos processados.\n",
      "55 de 60 documentos processados.\n",
      "56 de 60 documentos processados.\n",
      "57 de 60 documentos processados.\n",
      "58 de 60 documentos processados.\n",
      "59 de 60 documentos processados.\n",
      "60 de 60 documentos processados.\n",
      "          data compra_venda abbreviation        titulo ativo    qtd  preco  \\\n",
      "0   2017-03-17            C        JBSS3           JBS    ON  200.0  11.03   \n",
      "1   2017-03-17            C        JBSS3           JBS    ON  300.0  11.19   \n",
      "2   2017-09-28            C        WEGE3      WEG S.A.    ON  200.0  21.20   \n",
      "3   2020-02-11            C        PSSA3  PORTO SEGURO    ON  100.0  67.20   \n",
      "4   2020-02-11            C        PSSA3  PORTO SEGURO    ON  100.0  67.20   \n",
      "..         ...          ...          ...           ...   ...    ...    ...   \n",
      "175 2018-03-21            V        PSSA3  PORTO SEGURO    ON -200.0  50.07   \n",
      "176 2018-09-10            C        PSSA3  PORTO SEGURO    ON  100.0  56.40   \n",
      "177 2018-09-10            C        WEGE3           WEG    ON  100.0  19.75   \n",
      "178 2017-03-20            V        JBSS3           JBS    ON -500.0  10.00   \n",
      "179 2017-10-19            C        WEGE3      WEG S.A.    ON  100.0  22.16   \n",
      "\n",
      "     valor_operacao  taxas  total_ajustado  preco_ajustado  \n",
      "0            2206.0  21.13         2214.45       11.072250  \n",
      "1            3357.0  21.13         3369.68       11.232267  \n",
      "2            4240.0  12.49         4252.49       21.262450  \n",
      "3            6720.0  10.40         6730.40       67.304000  \n",
      "4            6720.0  10.40         6730.40       67.304000  \n",
      "..              ...    ...             ...             ...  \n",
      "175         10014.0   4.08        10009.92       50.049600  \n",
      "176          5640.0   4.21         5644.21       56.442100  \n",
      "177          1975.0   4.21         1979.21       19.792100  \n",
      "178          5000.0  12.84         4987.16        9.974320  \n",
      "179          2216.0  11.81         2227.81       22.278100  \n",
      "\n",
      "[180 rows x 11 columns]\n",
      "              preco_medio     qtd\n",
      "abbreviation                     \n",
      "BBAS3           32.571350  2600.0\n",
      "BBDC4           20.643714  3715.0\n",
      "BRAP3           27.879200  1700.0\n",
      "BRAP4           33.572571   700.0\n",
      "ENAT3            9.426460   600.0\n",
      "EZTC3           16.515158  2400.0\n",
      "ITUB3           21.111586  2900.0\n",
      "PSSA3           31.456164  5400.0\n",
      "VALE3           65.189900   300.0\n",
      "WEGE3           20.210678  1700.0\n"
     ]
    }
   ],
   "source": [
    "from datetime import datetime\n",
    "import numpy as np\n",
    "import pandas as pd\n",
    "from importer import Importer\n",
    "from df_utils import group_weighted_mean_factory, add_new_entries, get_average_price_df, get_qtd, \\\n",
    "    get_exceptional_earnings_since_2018\n",
    "\n",
    "raw_df = Importer().process_files()\n",
    "df = raw_df\n",
    "df.data = raw_df.data.apply(pd.to_datetime)\n",
    "df.qtd = df.apply(lambda line: line.qtd if line.compra_venda == \"C\" else -line.qtd, axis=1)\n",
    "\n",
    "print(raw_df)\n",
    "\n",
    "weighted_mean = group_weighted_mean_factory(raw_df, \"qtd\")\n",
    "\n",
    "df = raw_df.sort_values(\"data\").groupby(by= [\"data\", \"abbreviation\", \"compra_venda\"], axis=0) \\\n",
    "    .aggregate({\"qtd\": \"sum\", \"preco\": \"mean\",\n",
    "                \"valor_operacao\": \"sum\", \"taxas\": \"max\", \"total_ajustado\": \"sum\", \"preco_ajustado\": weighted_mean})\n",
    "df = df.reset_index()\n",
    "\n",
    "# ------------- Extra entries -------------\n",
    "df = get_exceptional_earnings_since_2018(df)\n",
    "\n",
    "# to_date = datetime(2022, 12, 31)\n",
    "to_date = datetime(2022, 4, 24)\n",
    "\n",
    "average_price_df = get_average_price_df(df, to_date)\n",
    "# display(average_price_df)\n",
    "qtd_df = get_qtd(df, to_date)\n",
    "\n",
    "final_df = average_price_df.merge(qtd_df, on=\"abbreviation\")\n",
    "final_df.columns = [\"preco_medio\", \"qtd\"]\n",
    "final_df = final_df[final_df.qtd != 0]\n",
    "print(final_df)"
   ]
  },
  {
   "cell_type": "code",
   "execution_count": 21,
   "metadata": {},
   "outputs": [
    {
     "data": {
      "text/plain": [
       "125841.41999999998"
      ]
     },
     "execution_count": 21,
     "metadata": {},
     "output_type": "execute_result"
    }
   ],
   "source": [
    "pos = raw_df[(raw_df.abbreviation=='PSSA3') & (raw_df.compra_venda == 'C')].sort_values(\"data\")\n",
    "neg = raw_df[(raw_df.abbreviation=='PSSA3') & (raw_df.compra_venda == 'V')].sort_values(\"data\")\n",
    "# calc.total_ajustado.sum()\n",
    "total = pos.total_ajustado.sum() - neg.total_ajustado.sum()\n",
    "total"
   ]
  },
  {
   "cell_type": "code",
   "execution_count": null,
   "metadata": {},
   "outputs": [],
   "source": [
    "raw_df.data"
   ]
  }
 ],
 "metadata": {
  "kernelspec": {
   "display_name": "Python 3 (ipykernel)",
   "language": "python",
   "name": "python3"
  },
  "language_info": {
   "codemirror_mode": {
    "name": "ipython",
    "version": 3
   },
   "file_extension": ".py",
   "mimetype": "text/x-python",
   "name": "python",
   "nbconvert_exporter": "python",
   "pygments_lexer": "ipython3",
   "version": "3.8.10"
  },
  "vscode": {
   "interpreter": {
    "hash": "e7370f93d1d0cde622a1f8e1c04877d8463912d04d973331ad4851f04de6915a"
   }
  }
 },
 "nbformat": 4,
 "nbformat_minor": 2
}
