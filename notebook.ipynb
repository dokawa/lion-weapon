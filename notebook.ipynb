{
 "cells": [
  {
   "cell_type": "code",
   "execution_count": 1,
   "metadata": {
    "scrolled": true
   },
   "outputs": [
    {
     "name": "stdout",
     "output_type": "stream",
     "text": [
      "  1 of 60 documents processed.\n",
      "        data compra_venda abbreviation titulo ativo    qtd  preco  \\\n",
      "0 2017-03-17            C        JBSS3    JBS    ON  200.0  11.03   \n",
      "1 2017-03-17            C        JBSS3    JBS    ON  300.0  11.19   \n",
      "\n",
      "   valor_operacao  taxas  total_ajustado  preco_ajustado  \n",
      "0          2206.0  21.13         2214.45       11.072250  \n",
      "1          3357.0  21.13         3369.68       11.232267  \n",
      "              preco_medio     qtd\n",
      "abbreviation                     \n",
      "BBDC4            5.643477   586.0\n",
      "JBSS3           11.168260   500.0\n",
      "PSSA3           12.372676  2700.0\n",
      "WEGE3           20.324935  1000.0\n"
     ]
    }
   ],
   "source": [
    "from lion_weapon import LionWeapon\n",
    "\n",
    "\n",
    "lp = LionWeapon()\n",
    "lp.calculate()"
   ]
  },
  {
   "cell_type": "code",
   "execution_count": 4,
   "metadata": {},
   "outputs": [
    {
     "ename": "AttributeError",
     "evalue": "'NoneType' object has no attribute 'raw_df'",
     "output_type": "error",
     "traceback": [
      "\u001b[0;31m---------------------------------------------------------------------------\u001b[0m",
      "\u001b[0;31mAttributeError\u001b[0m                            Traceback (most recent call last)",
      "Cell \u001b[0;32mIn[4], line 1\u001b[0m\n\u001b[0;32m----> 1\u001b[0m raw_df \u001b[38;5;241m=\u001b[39m \u001b[43mlp\u001b[49m\u001b[38;5;241;43m.\u001b[39;49m\u001b[43mraw_df\u001b[49m\n\u001b[1;32m      3\u001b[0m pos \u001b[38;5;241m=\u001b[39m raw_df[(raw_df\u001b[38;5;241m.\u001b[39mabbreviation\u001b[38;5;241m==\u001b[39m\u001b[38;5;124m'\u001b[39m\u001b[38;5;124mPSSA3\u001b[39m\u001b[38;5;124m'\u001b[39m) \u001b[38;5;241m&\u001b[39m (raw_df\u001b[38;5;241m.\u001b[39mcompra_venda \u001b[38;5;241m==\u001b[39m \u001b[38;5;124m'\u001b[39m\u001b[38;5;124mC\u001b[39m\u001b[38;5;124m'\u001b[39m)]\u001b[38;5;241m.\u001b[39msort_values(\u001b[38;5;124m\"\u001b[39m\u001b[38;5;124mdata\u001b[39m\u001b[38;5;124m\"\u001b[39m)\n\u001b[1;32m      4\u001b[0m neg \u001b[38;5;241m=\u001b[39m raw_df[(raw_df\u001b[38;5;241m.\u001b[39mabbreviation\u001b[38;5;241m==\u001b[39m\u001b[38;5;124m'\u001b[39m\u001b[38;5;124mPSSA3\u001b[39m\u001b[38;5;124m'\u001b[39m) \u001b[38;5;241m&\u001b[39m (raw_df\u001b[38;5;241m.\u001b[39mcompra_venda \u001b[38;5;241m==\u001b[39m \u001b[38;5;124m'\u001b[39m\u001b[38;5;124mV\u001b[39m\u001b[38;5;124m'\u001b[39m)]\u001b[38;5;241m.\u001b[39msort_values(\u001b[38;5;124m\"\u001b[39m\u001b[38;5;124mdata\u001b[39m\u001b[38;5;124m\"\u001b[39m)\n",
      "\u001b[0;31mAttributeError\u001b[0m: 'NoneType' object has no attribute 'raw_df'"
     ]
    }
   ],
   "source": [
    "raw_df = lp.raw_df\n",
    "\n",
    "pos = raw_df[(raw_df.abbreviation=='PSSA3') & (raw_df.compra_venda == 'C')].sort_values(\"data\")\n",
    "neg = raw_df[(raw_df.abbreviation=='PSSA3') & (raw_df.compra_venda == 'V')].sort_values(\"data\")\n",
    "# calc.total_ajustado.sum()\n",
    "total = pos.total_ajustado.sum() - neg.total_ajustado.sum()\n",
    "total"
   ]
  },
  {
   "cell_type": "code",
   "execution_count": null,
   "metadata": {},
   "outputs": [],
   "source": [
    "raw_df.data"
   ]
  }
 ],
 "metadata": {
  "kernelspec": {
   "display_name": "Python 3 (ipykernel)",
   "language": "python",
   "name": "python3"
  },
  "language_info": {
   "codemirror_mode": {
    "name": "ipython",
    "version": 3
   },
   "file_extension": ".py",
   "mimetype": "text/x-python",
   "name": "python",
   "nbconvert_exporter": "python",
   "pygments_lexer": "ipython3",
   "version": "3.8.10"
  },
  "vscode": {
   "interpreter": {
    "hash": "e7370f93d1d0cde622a1f8e1c04877d8463912d04d973331ad4851f04de6915a"
   }
  }
 },
 "nbformat": 4,
 "nbformat_minor": 2
}
