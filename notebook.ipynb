{
 "cells": [
  {
   "cell_type": "code",
   "execution_count": 20,
   "metadata": {
    "scrolled": true
   },
   "outputs": [
    {
     "name": "stdout",
     "output_type": "stream",
     "text": [
      "1 de 1 documentos processados.\n",
      "        data compra_venda abbreviation      titulo ativo    qtd  preco  \\\n",
      "0 2020-10-11            C        AGRO3  BRASILAGRO    ON  100.0  23.21   \n",
      "1 2020-10-11            C        AGRO3  BRASILAGRO    ON  300.0  23.21   \n",
      "2 2020-10-11            C        AGRO3  BRASILAGRO    ON  100.0  23.21   \n",
      "\n",
      "   valor_operacao  taxas  total_ajustado  preco_ajustado  \n",
      "0          2321.0   6.46         2327.46       23.274600  \n",
      "1          6963.0   6.46         6969.46       23.231533  \n",
      "2          2321.0   6.46         2327.46       23.274600  \n",
      "              preco_medio    qtd\n",
      "abbreviation                    \n",
      "AGRO3            23.24876  500.0\n"
     ]
    }
   ],
   "source": [
    "from datetime import datetime\n",
    "import numpy as np\n",
    "import pandas as pd\n",
    "from importer import Importer\n",
    "from df_utils import group_weighted_mean_factory, add_new_entries, get_average_price_df, get_qtd, \\\n",
    "    get_exceptional_earnings_since_2018, get_last_state_from_2021\n",
    "\n",
    "raw_df = Importer().process_files()\n",
    "df = raw_df\n",
    "df.data = raw_df.data.apply(pd.to_datetime)\n",
    "df.qtd = df.apply(lambda line: line.qtd if line.compra_venda == \"C\" else -line.qtd, axis=1)\n",
    "\n",
    "print(raw_df)\n",
    "\n",
    "weighted_mean = group_weighted_mean_factory(raw_df, \"qtd\")\n",
    "\n",
    "df = raw_df.sort_values(\"data\").groupby(by= [\"data\", \"abbreviation\", \"compra_venda\"], axis=0) \\\n",
    "    .aggregate({\"qtd\": \"sum\", \"preco\": \"mean\",\n",
    "                \"valor_operacao\": \"sum\", \"taxas\": \"max\", \"total_ajustado\": \"sum\", \"preco_ajustado\": weighted_mean})\n",
    "df = df.reset_index()\n",
    "\n",
    "# ------------- Extra entries -------------\n",
    "# df = get_exceptional_earnings_since_2018(df)\n",
    "\n",
    "# df = get_last_state_from_2021(df)\n",
    "\n",
    "\n",
    "to_date = datetime(2022, 12, 31)\n",
    "# date = datetime(2018, 4, 27)\n",
    "\n",
    "average_price_df = get_average_price_df(df, to_date)\n",
    "# display(average_price_df)\n",
    "qtd_df = get_qtd(df, to_date)\n",
    "\n",
    "final_df = average_price_df.merge(qtd_df, on=\"abbreviation\")\n",
    "final_df.columns = [\"preco_medio\", \"qtd\"]\n",
    "final_df = final_df[final_df.qtd != 0]\n",
    "print(final_df)"
   ]
  },
  {
   "cell_type": "code",
   "execution_count": 18,
   "metadata": {},
   "outputs": [
    {
     "data": {
      "text/html": [
       "<div>\n",
       "<style scoped>\n",
       "    .dataframe tbody tr th:only-of-type {\n",
       "        vertical-align: middle;\n",
       "    }\n",
       "\n",
       "    .dataframe tbody tr th {\n",
       "        vertical-align: top;\n",
       "    }\n",
       "\n",
       "    .dataframe thead th {\n",
       "        text-align: right;\n",
       "    }\n",
       "</style>\n",
       "<table border=\"1\" class=\"dataframe\">\n",
       "  <thead>\n",
       "    <tr style=\"text-align: right;\">\n",
       "      <th></th>\n",
       "      <th>data</th>\n",
       "      <th>abbreviation</th>\n",
       "      <th>compra_venda</th>\n",
       "      <th>qtd</th>\n",
       "      <th>preco</th>\n",
       "      <th>valor_operacao</th>\n",
       "      <th>taxas</th>\n",
       "      <th>total_ajustado</th>\n",
       "      <th>preco_ajustado</th>\n",
       "    </tr>\n",
       "  </thead>\n",
       "  <tbody>\n",
       "  </tbody>\n",
       "</table>\n",
       "</div>"
      ],
      "text/plain": [
       "Empty DataFrame\n",
       "Columns: [data, abbreviation, compra_venda, qtd, preco, valor_operacao, taxas, total_ajustado, preco_ajustado]\n",
       "Index: []"
      ]
     },
     "execution_count": 18,
     "metadata": {},
     "output_type": "execute_result"
    }
   ],
   "source": [
    "df[df.abbreviation == \"ENAT3\"].head(60)"
   ]
  }
 ],
 "metadata": {
  "kernelspec": {
   "display_name": "Python 3 (ipykernel)",
   "language": "python",
   "name": "python3"
  },
  "language_info": {
   "codemirror_mode": {
    "name": "ipython",
    "version": 3
   },
   "file_extension": ".py",
   "mimetype": "text/x-python",
   "name": "python",
   "nbconvert_exporter": "python",
   "pygments_lexer": "ipython3",
   "version": "3.8.10"
  },
  "vscode": {
   "interpreter": {
    "hash": "e7370f93d1d0cde622a1f8e1c04877d8463912d04d973331ad4851f04de6915a"
   }
  }
 },
 "nbformat": 4,
 "nbformat_minor": 2
}
